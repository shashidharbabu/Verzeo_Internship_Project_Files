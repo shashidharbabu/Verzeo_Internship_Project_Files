{
 "cells": [
  {
   "cell_type": "markdown",
   "metadata": {},
   "source": [
    "# Importing Packages"
   ]
  },
  {
   "cell_type": "code",
   "execution_count": 1,
   "metadata": {},
   "outputs": [
    {
     "name": "stderr",
     "output_type": "stream",
     "text": [
      "Using TensorFlow backend.\n"
     ]
    }
   ],
   "source": [
    "import cv2\n",
    "from keras.models import load_model \n",
    "import numpy as np"
   ]
  },
  {
   "cell_type": "markdown",
   "metadata": {},
   "source": [
    "# Loading the Model"
   ]
  },
  {
   "cell_type": "code",
   "execution_count": 2,
   "metadata": {},
   "outputs": [],
   "source": [
    "model = load_model('Face_Mask_Model.model')\n",
    "detector = cv2.CascadeClassifier('D:/AI(verzeo)/majorproject/haarcascade_frontalface_alt.xml')\n",
    "types = { 0 : 'With Mask' , 1 : 'Without Mask'}\n",
    "colours = { 0 : (0,255,0) , 1 : (0,0,255)}"
   ]
  },
  {
   "cell_type": "markdown",
   "metadata": {},
   "source": [
    "# Running the Model along with the Webcam"
   ]
  },
  {
   "cell_type": "code",
   "execution_count": 3,
   "metadata": {},
   "outputs": [
    {
     "name": "stderr",
     "output_type": "stream",
     "text": [
      "D:\\Anaconda3\\envs\\tensorflow\\lib\\site-packages\\ipykernel_launcher.py:8: DeprecationWarning: elementwise comparison failed; this will raise an error in the future.\n",
      "  \n"
     ]
    }
   ],
   "source": [
    "cam = cv2.VideoCapture(0)\n",
    "test = tuple()\n",
    "while True:\n",
    "    status , img = cam.read()\n",
    "    if status:\n",
    "        img_gray = cv2.cvtColor(img,cv2.COLOR_BGR2GRAY)\n",
    "        faces = detector.detectMultiScale(img_gray)\n",
    "        if faces != test:\n",
    "            for face in faces:\n",
    "                x,y,w,h = face\n",
    "                face_img = img_gray[y:y+w,x:x+w]\n",
    "                face_img = cv2.resize(face_img,(100,100))\n",
    "                face_img = face_img/250\n",
    "                face_img = np.reshape(face_img,(1,100,100,1))\n",
    "                val = np.argmax(model.predict(face_img),axis=1)[0]\n",
    "                cv2.rectangle(img,(x,y),(x+w,y+h),colours[val],3)\n",
    "                cv2.rectangle(img,(x,y-40),(x+200,y),colours[val],-1)\n",
    "                cv2.putText(img,types[val],(x,y-15),cv2.FONT_HERSHEY_SIMPLEX,1,thickness=4,color = (255,255,255))\n",
    "        else:\n",
    "            cv2.putText(img,'Face Not Detected',(100,250),cv2.FONT_HERSHEY_SIMPLEX,1,thickness=4,color = (255,255,255))\n",
    "        cv2.putText(img,'PRESS q TO EXIT',(100,50),cv2.FONT_HERSHEY_SIMPLEX,1,thickness=4,color = (255,255,255))    \n",
    "        cv2.imshow('LIVE_FACE_MASK_DETECTOR',img)\n",
    "        key = cv2.waitKey(1)&0xFF\n",
    "        if key == ord('q'):\n",
    "            break\n",
    "cam.release()   \n",
    "cv2.destroyAllWindows()        "
   ]
  },
  {
   "cell_type": "code",
   "execution_count": null,
   "metadata": {},
   "outputs": [],
   "source": []
  }
 ],
 "metadata": {
  "kernelspec": {
   "display_name": "Python 3",
   "language": "python",
   "name": "python3"
  },
  "language_info": {
   "codemirror_mode": {
    "name": "ipython",
    "version": 3
   },
   "file_extension": ".py",
   "mimetype": "text/x-python",
   "name": "python",
   "nbconvert_exporter": "python",
   "pygments_lexer": "ipython3",
   "version": "3.7.7"
  },
  "latex_envs": {
   "LaTeX_envs_menu_present": true,
   "autoclose": false,
   "autocomplete": true,
   "bibliofile": "biblio.bib",
   "cite_by": "apalike",
   "current_citInitial": 1,
   "eqLabelWithNumbers": true,
   "eqNumInitial": 1,
   "hotkeys": {
    "equation": "Ctrl-E",
    "itemize": "Ctrl-I"
   },
   "labels_anchors": false,
   "latex_user_defs": false,
   "report_style_numbering": false,
   "user_envs_cfg": false
  },
  "nbTranslate": {
   "displayLangs": [
    "*"
   ],
   "hotkey": "alt-t",
   "langInMainMenu": true,
   "sourceLang": "en",
   "targetLang": "fr",
   "useGoogleTranslate": true
  },
  "toc": {
   "base_numbering": 1,
   "nav_menu": {},
   "number_sections": true,
   "sideBar": true,
   "skip_h1_title": false,
   "title_cell": "Table of Contents",
   "title_sidebar": "Contents",
   "toc_cell": false,
   "toc_position": {},
   "toc_section_display": true,
   "toc_window_display": false
  }
 },
 "nbformat": 4,
 "nbformat_minor": 4
}
